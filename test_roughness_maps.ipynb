{
 "cells": [
  {
   "cell_type": "code",
   "execution_count": 6,
   "metadata": {},
   "outputs": [],
   "source": [
    "from surface_roughness import Surface, SampleWindow, roughness, roughness_map\n",
    "import matplotlib.pyplot as plt\n",
    "\n",
    "w = SampleWindow(is_circle=True,radius=2.5)\n",
    "file_path = 'example_surface.stl'\n",
    "def generate_map(surface,method,submethods,w:SampleWindow):\n",
    "    map = roughness_map(surface,method,w,1,1)\n",
    "    map.sample(verbose=True)\n",
    "    map.evaluate()\n",
    "    for submethod in submethods:\n",
    "        map.analyze_directional_roughness(submethod)\n",
    "\n",
    "        plt.figure(figsize=(6.5,4))\n",
    "        map.plot_quiver(submethod,'min_bidirectional',ax=plt.subplot(221))\n",
    "        map.plot_magnitude(submethod,'max_bidirectional',ax=plt.subplot(222))\n",
    "        map.plot_distribution(submethod,'max_bidirectional',50,ax=plt.subplot(212))\n",
    "        plt.tight_layout()\n",
    "        submethod_savestr = submethod.replace('*','star')\n"
   ]
  },
  {
   "cell_type": "code",
   "execution_count": 8,
   "metadata": {},
   "outputs": [
    {
     "name": "stdout",
     "output_type": "stream",
     "text": [
      "Sampling...\n",
      "Finding samples...\n"
     ]
    },
    {
     "name": "stderr",
     "output_type": "stream",
     "text": [
      "100%|██████████| 616/616 [00:00<00:00, 2117.88it/s]\n",
      "100%|██████████| 616/616 [00:00<00:00, 1487.73it/s]\n"
     ]
    },
    {
     "name": "stdout",
     "output_type": "stream",
     "text": [
      "Analyzing sampled roughness...\n"
     ]
    },
    {
     "name": "stderr",
     "output_type": "stream",
     "text": [
      "  0%|          | 0/495 [00:00<?, ?it/s]"
     ]
    },
    {
     "ename": "TypeError",
     "evalue": "__init__(): incompatible constructor arguments. The following argument types are supported:\n    1. surface_roughness._roughness_cppimpl._cppTINBasedRoughness_impl(arg0: numpy.ndarray[numpy.float64[m, 3]], arg1: numpy.ndarray[numpy.int32[m, 3]])\n\nInvoked with: array([[ 3.72235341, 28.37285075,  0.33799704],\n       [ 3.9066535 , 28.32220238,  0.32852653],\n       [ 3.82516073, 28.61106716,  0.31447929],\n       ...,\n       [25.29536101, 26.16629356,  1.00639784],\n       [25.22542291,  9.05695497, -0.6768397 ],\n       [25.43393972,  9.42765121, -0.74885902]]), array([[   0,    1,    2],\n       [   3,    4,    1],\n       [   2,    1,    5],\n       ...,\n       [8515, 8566, 8445],\n       [8515, 8598, 8566],\n       [8533, 8439, 8534]], dtype=int64), array([12394, 12456, 12503, 12555, 12556, 12642, 12643, 12702, 12772,\n       12800, 12801, 12849, 12868, 12870, 12906, 12907, 12924, 12925,\n       13013, 13014, 13022, 13023, 13065, 13078, 13107, 13143, 13144,\n       13159, 13160, 13209, 13210, 13211, 13226, 13227, 13236, 13237,\n       13308, 13339, 13352, 13353, 13376, 13377, 13408, 13462, 13483,\n       13484, 13501, 13502, 13522, 13611, 13612, 13627, 13628, 13644,\n       13645, 13664, 13665, 13725, 13726, 13753, 13754, 13755, 13771,\n       13772, 13806, 13807, 13808, 13809, 13862, 13863, 13864, 13929,\n       13930, 13965, 13966, 13984, 14026, 14063, 14065, 14107, 14110,\n       14111, 14133, 14138, 14139, 14219, 14220, 14221, 14240, 14241,\n       14242, 14243, 14278, 14279, 14280, 14324, 14325, 14344, 14356,\n       14357, 14391, 14401, 14428, 14474, 14475, 14476, 14525, 14526,\n       14535, 14536, 14537, 14538, 14539, 14600, 14615, 14626, 14627,\n       14666, 14667, 14668, 14677, 14678, 14733, 14745, 14746, 14756,\n       14757, 14758, 14802, 14803, 14814, 14818, 14819, 14838, 14839,\n       14840, 14860, 14872, 14873, 14874, 14938, 14942, 14943, 14944,\n       14981, 14982, 14999, 15000, 15035, 15036, 15071, 15072, 15073,\n       15081, 15082, 15107, 15150, 15151, 15166, 15167, 15187, 15235,\n       15236, 15237, 15238, 15295, 15296, 15326, 15327, 15328, 15329,\n       15343, 15344, 15345, 15371, 15372, 15399, 15405, 15443, 15444,\n       15472, 15473, 15474, 15497, 15498, 15523, 15524, 15543, 15544,\n       15581, 15582, 15602, 15603, 15649, 15674, 15675, 15683, 15684,\n       15685, 15701, 15702, 15774, 15775, 15776, 15796, 15797, 15816,\n       15817, 15851, 15880, 15881, 15897, 15945, 15946, 15975, 15994,\n       15995, 15996, 16062, 16063, 16093, 16099, 16100, 16138, 16162,\n       16163, 16175, 16199, 16200, 16255, 16256, 16279, 16321, 16322,\n       16365, 16366, 16369, 16370, 16434, 16450, 16451, 16492, 16493,\n       16568, 16610], dtype=int64)",
     "output_type": "error",
     "traceback": [
      "\u001b[1;31m---------------------------------------------------------------------------\u001b[0m",
      "\u001b[1;31mTypeError\u001b[0m                                 Traceback (most recent call last)",
      "\u001b[1;32m~\\AppData\\Local\\Temp\\ipykernel_33348\\221658253.py\u001b[0m in \u001b[0;36m<module>\u001b[1;34m\u001b[0m\n\u001b[0;32m      1\u001b[0m \u001b[0msurface\u001b[0m \u001b[1;33m=\u001b[0m \u001b[0mSurface\u001b[0m\u001b[1;33m(\u001b[0m\u001b[0mpath\u001b[0m\u001b[1;33m=\u001b[0m\u001b[0mfile_path\u001b[0m\u001b[1;33m)\u001b[0m\u001b[1;33m\u001b[0m\u001b[1;33m\u001b[0m\u001b[0m\n\u001b[1;32m----> 2\u001b[1;33m \u001b[0mgenerate_map\u001b[0m\u001b[1;33m(\u001b[0m\u001b[0msurface\u001b[0m\u001b[1;33m,\u001b[0m\u001b[1;34m'delta_t'\u001b[0m\u001b[1;33m,\u001b[0m\u001b[1;33m[\u001b[0m\u001b[1;34m'delta_t'\u001b[0m\u001b[1;33m]\u001b[0m\u001b[1;33m,\u001b[0m\u001b[0mw\u001b[0m\u001b[1;33m)\u001b[0m\u001b[1;33m\u001b[0m\u001b[1;33m\u001b[0m\u001b[0m\n\u001b[0m",
      "\u001b[1;32m~\\AppData\\Local\\Temp\\ipykernel_33348\\2424266245.py\u001b[0m in \u001b[0;36mgenerate_map\u001b[1;34m(surface, method, submethods, w)\u001b[0m\n\u001b[0;32m      7\u001b[0m     \u001b[0mmap\u001b[0m \u001b[1;33m=\u001b[0m \u001b[0mroughness_map\u001b[0m\u001b[1;33m(\u001b[0m\u001b[0msurface\u001b[0m\u001b[1;33m,\u001b[0m\u001b[0mmethod\u001b[0m\u001b[1;33m,\u001b[0m\u001b[0mw\u001b[0m\u001b[1;33m,\u001b[0m\u001b[1;36m1\u001b[0m\u001b[1;33m,\u001b[0m\u001b[1;36m1\u001b[0m\u001b[1;33m)\u001b[0m\u001b[1;33m\u001b[0m\u001b[1;33m\u001b[0m\u001b[0m\n\u001b[0;32m      8\u001b[0m     \u001b[0mmap\u001b[0m\u001b[1;33m.\u001b[0m\u001b[0msample\u001b[0m\u001b[1;33m(\u001b[0m\u001b[0mverbose\u001b[0m\u001b[1;33m=\u001b[0m\u001b[1;32mTrue\u001b[0m\u001b[1;33m)\u001b[0m\u001b[1;33m\u001b[0m\u001b[1;33m\u001b[0m\u001b[0m\n\u001b[1;32m----> 9\u001b[1;33m     \u001b[0mmap\u001b[0m\u001b[1;33m.\u001b[0m\u001b[0mevaluate\u001b[0m\u001b[1;33m(\u001b[0m\u001b[1;33m)\u001b[0m\u001b[1;33m\u001b[0m\u001b[1;33m\u001b[0m\u001b[0m\n\u001b[0m\u001b[0;32m     10\u001b[0m     \u001b[1;32mfor\u001b[0m \u001b[0msubmethod\u001b[0m \u001b[1;32min\u001b[0m \u001b[0msubmethods\u001b[0m\u001b[1;33m:\u001b[0m\u001b[1;33m\u001b[0m\u001b[1;33m\u001b[0m\u001b[0m\n\u001b[0;32m     11\u001b[0m         \u001b[0mmap\u001b[0m\u001b[1;33m.\u001b[0m\u001b[0manalyze_directional_roughness\u001b[0m\u001b[1;33m(\u001b[0m\u001b[0msubmethod\u001b[0m\u001b[1;33m)\u001b[0m\u001b[1;33m\u001b[0m\u001b[1;33m\u001b[0m\u001b[0m\n",
      "\u001b[1;32mx:\\Git\\pysurfaceroughness\\surface_roughness\\sampling.py\u001b[0m in \u001b[0;36mevaluate\u001b[1;34m(self, folder, file_prefix)\u001b[0m\n\u001b[0;32m    187\u001b[0m             \u001b[1;32mreturn\u001b[0m \u001b[0mcalc\u001b[0m\u001b[1;33m\u001b[0m\u001b[1;33m\u001b[0m\u001b[0m\n\u001b[0;32m    188\u001b[0m         \u001b[0mprint\u001b[0m\u001b[1;33m(\u001b[0m\u001b[1;34m\"Analyzing sampled roughness...\"\u001b[0m\u001b[1;33m)\u001b[0m\u001b[1;33m\u001b[0m\u001b[1;33m\u001b[0m\u001b[0m\n\u001b[1;32m--> 189\u001b[1;33m         \u001b[0mself\u001b[0m\u001b[1;33m.\u001b[0m\u001b[0mraw_roughness_calculators\u001b[0m\u001b[1;33m:\u001b[0m\u001b[0mlist\u001b[0m\u001b[1;33m[\u001b[0m\u001b[0mDirRoughnessBase\u001b[0m\u001b[1;33m]\u001b[0m \u001b[1;33m=\u001b[0m \u001b[1;33m[\u001b[0m\u001b[0mrun_calc\u001b[0m\u001b[1;33m(\u001b[0m\u001b[0mi\u001b[0m\u001b[1;33m,\u001b[0m\u001b[0mtlist\u001b[0m\u001b[1;33m)\u001b[0m \u001b[1;32mfor\u001b[0m \u001b[0mi\u001b[0m\u001b[1;33m,\u001b[0m\u001b[0mtlist\u001b[0m \u001b[1;32min\u001b[0m \u001b[0mtqdm\u001b[0m\u001b[1;33m(\u001b[0m\u001b[0menumerate\u001b[0m\u001b[1;33m(\u001b[0m\u001b[0mself\u001b[0m\u001b[1;33m.\u001b[0m\u001b[0mt_in_circle\u001b[0m\u001b[1;33m)\u001b[0m\u001b[1;33m,\u001b[0m\u001b[0mtotal\u001b[0m\u001b[1;33m=\u001b[0m\u001b[0mlen\u001b[0m\u001b[1;33m(\u001b[0m\u001b[0mself\u001b[0m\u001b[1;33m.\u001b[0m\u001b[0mt_in_circle\u001b[0m\u001b[1;33m)\u001b[0m\u001b[1;33m)\u001b[0m\u001b[1;33m]\u001b[0m\u001b[1;33m\u001b[0m\u001b[1;33m\u001b[0m\u001b[0m\n\u001b[0m\u001b[0;32m    190\u001b[0m \u001b[1;33m\u001b[0m\u001b[0m\n\u001b[0;32m    191\u001b[0m         \u001b[1;31m# collect sample properties\u001b[0m\u001b[1;33m\u001b[0m\u001b[1;33m\u001b[0m\u001b[1;33m\u001b[0m\u001b[0m\n",
      "\u001b[1;32mx:\\Git\\pysurfaceroughness\\surface_roughness\\sampling.py\u001b[0m in \u001b[0;36m<listcomp>\u001b[1;34m(.0)\u001b[0m\n\u001b[0;32m    187\u001b[0m             \u001b[1;32mreturn\u001b[0m \u001b[0mcalc\u001b[0m\u001b[1;33m\u001b[0m\u001b[1;33m\u001b[0m\u001b[0m\n\u001b[0;32m    188\u001b[0m         \u001b[0mprint\u001b[0m\u001b[1;33m(\u001b[0m\u001b[1;34m\"Analyzing sampled roughness...\"\u001b[0m\u001b[1;33m)\u001b[0m\u001b[1;33m\u001b[0m\u001b[1;33m\u001b[0m\u001b[0m\n\u001b[1;32m--> 189\u001b[1;33m         \u001b[0mself\u001b[0m\u001b[1;33m.\u001b[0m\u001b[0mraw_roughness_calculators\u001b[0m\u001b[1;33m:\u001b[0m\u001b[0mlist\u001b[0m\u001b[1;33m[\u001b[0m\u001b[0mDirRoughnessBase\u001b[0m\u001b[1;33m]\u001b[0m \u001b[1;33m=\u001b[0m \u001b[1;33m[\u001b[0m\u001b[0mrun_calc\u001b[0m\u001b[1;33m(\u001b[0m\u001b[0mi\u001b[0m\u001b[1;33m,\u001b[0m\u001b[0mtlist\u001b[0m\u001b[1;33m)\u001b[0m \u001b[1;32mfor\u001b[0m \u001b[0mi\u001b[0m\u001b[1;33m,\u001b[0m\u001b[0mtlist\u001b[0m \u001b[1;32min\u001b[0m \u001b[0mtqdm\u001b[0m\u001b[1;33m(\u001b[0m\u001b[0menumerate\u001b[0m\u001b[1;33m(\u001b[0m\u001b[0mself\u001b[0m\u001b[1;33m.\u001b[0m\u001b[0mt_in_circle\u001b[0m\u001b[1;33m)\u001b[0m\u001b[1;33m,\u001b[0m\u001b[0mtotal\u001b[0m\u001b[1;33m=\u001b[0m\u001b[0mlen\u001b[0m\u001b[1;33m(\u001b[0m\u001b[0mself\u001b[0m\u001b[1;33m.\u001b[0m\u001b[0mt_in_circle\u001b[0m\u001b[1;33m)\u001b[0m\u001b[1;33m)\u001b[0m\u001b[1;33m]\u001b[0m\u001b[1;33m\u001b[0m\u001b[1;33m\u001b[0m\u001b[0m\n\u001b[0m\u001b[0;32m    190\u001b[0m \u001b[1;33m\u001b[0m\u001b[0m\n\u001b[0;32m    191\u001b[0m         \u001b[1;31m# collect sample properties\u001b[0m\u001b[1;33m\u001b[0m\u001b[1;33m\u001b[0m\u001b[1;33m\u001b[0m\u001b[0m\n",
      "\u001b[1;32mx:\\Git\\pysurfaceroughness\\surface_roughness\\sampling.py\u001b[0m in \u001b[0;36mrun_calc\u001b[1;34m(i, tlist)\u001b[0m\n\u001b[0;32m    179\u001b[0m         \u001b[1;32mdef\u001b[0m \u001b[0mrun_calc\u001b[0m\u001b[1;33m(\u001b[0m\u001b[0mi\u001b[0m\u001b[1;33m,\u001b[0m\u001b[0mtlist\u001b[0m\u001b[1;33m)\u001b[0m\u001b[1;33m:\u001b[0m\u001b[1;33m\u001b[0m\u001b[1;33m\u001b[0m\u001b[0m\n\u001b[0;32m    180\u001b[0m \u001b[1;33m\u001b[0m\u001b[0m\n\u001b[1;32m--> 181\u001b[1;33m             \u001b[0mcalc\u001b[0m \u001b[1;33m=\u001b[0m \u001b[0mself\u001b[0m\u001b[1;33m.\u001b[0m\u001b[0m_methods\u001b[0m\u001b[1;33m[\u001b[0m\u001b[0mself\u001b[0m\u001b[1;33m.\u001b[0m\u001b[0mroughness_method\u001b[0m\u001b[1;33m]\u001b[0m\u001b[1;33m(\u001b[0m\u001b[0mself\u001b[0m\u001b[1;33m.\u001b[0m\u001b[0msurface\u001b[0m\u001b[1;33m.\u001b[0m\u001b[0mpoints\u001b[0m\u001b[1;33m,\u001b[0m\u001b[0mself\u001b[0m\u001b[1;33m.\u001b[0m\u001b[0msurface\u001b[0m\u001b[1;33m.\u001b[0m\u001b[0mtriangles\u001b[0m\u001b[1;33m,\u001b[0m\u001b[0mtlist\u001b[0m\u001b[1;33m)\u001b[0m\u001b[1;33m\u001b[0m\u001b[1;33m\u001b[0m\u001b[0m\n\u001b[0m\u001b[0;32m    182\u001b[0m             \u001b[1;32mif\u001b[0m \u001b[0mfolder\u001b[0m \u001b[1;32mis\u001b[0m \u001b[1;32mnot\u001b[0m \u001b[1;32mNone\u001b[0m\u001b[1;33m:\u001b[0m\u001b[1;33m\u001b[0m\u001b[1;33m\u001b[0m\u001b[0m\n\u001b[0;32m    183\u001b[0m                 \u001b[0mfile_name\u001b[0m \u001b[1;33m=\u001b[0m \u001b[0mos\u001b[0m\u001b[1;33m.\u001b[0m\u001b[0mpath\u001b[0m\u001b[1;33m.\u001b[0m\u001b[0mjoin\u001b[0m\u001b[1;33m(\u001b[0m\u001b[0mfolder\u001b[0m\u001b[1;33m,\u001b[0m\u001b[1;34mf\"{file_prefix}_{i}.stl\"\u001b[0m\u001b[1;33m)\u001b[0m\u001b[1;33m\u001b[0m\u001b[1;33m\u001b[0m\u001b[0m\n",
      "\u001b[1;32mx:\\Git\\pysurfaceroughness\\surface_roughness\\roughness_impl.py\u001b[0m in \u001b[0;36m__init__\u001b[1;34m(self, points, triangles, triangle_mask, **kwargs)\u001b[0m\n\u001b[0;32m    139\u001b[0m             \u001b[0mself\u001b[0m\u001b[1;33m.\u001b[0m\u001b[0mimpl\u001b[0m \u001b[1;33m=\u001b[0m \u001b[0m_cppTINBasedRoughness_impl\u001b[0m\u001b[1;33m(\u001b[0m\u001b[0mpoints\u001b[0m\u001b[1;33m,\u001b[0m\u001b[0mtriangles\u001b[0m\u001b[1;33m)\u001b[0m\u001b[1;33m\u001b[0m\u001b[1;33m\u001b[0m\u001b[0m\n\u001b[0;32m    140\u001b[0m         \u001b[1;32melse\u001b[0m\u001b[1;33m:\u001b[0m\u001b[1;33m\u001b[0m\u001b[1;33m\u001b[0m\u001b[0m\n\u001b[1;32m--> 141\u001b[1;33m             \u001b[0mself\u001b[0m\u001b[1;33m.\u001b[0m\u001b[0mimpl\u001b[0m \u001b[1;33m=\u001b[0m \u001b[0m_cppTINBasedRoughness_impl\u001b[0m\u001b[1;33m(\u001b[0m\u001b[0mpoints\u001b[0m\u001b[1;33m,\u001b[0m\u001b[0mtriangles\u001b[0m\u001b[1;33m,\u001b[0m\u001b[0mtriangle_mask\u001b[0m\u001b[1;33m)\u001b[0m\u001b[1;33m\u001b[0m\u001b[1;33m\u001b[0m\u001b[0m\n\u001b[0m\u001b[0;32m    142\u001b[0m         \u001b[0mself\u001b[0m\u001b[1;33m.\u001b[0m\u001b[0msettings\u001b[0m \u001b[1;33m=\u001b[0m \u001b[0m_cppTINBasedRoughness_Settings_impl\u001b[0m\u001b[1;33m(\u001b[0m\u001b[1;33m)\u001b[0m\u001b[1;33m\u001b[0m\u001b[1;33m\u001b[0m\u001b[0m\n\u001b[0;32m    143\u001b[0m         \u001b[1;32mfor\u001b[0m \u001b[0mkey\u001b[0m\u001b[1;33m,\u001b[0m\u001b[0mvalue\u001b[0m \u001b[1;32min\u001b[0m \u001b[0mkwargs\u001b[0m\u001b[1;33m.\u001b[0m\u001b[0mitems\u001b[0m\u001b[1;33m(\u001b[0m\u001b[1;33m)\u001b[0m\u001b[1;33m:\u001b[0m\u001b[1;33m\u001b[0m\u001b[1;33m\u001b[0m\u001b[0m\n",
      "\u001b[1;31mTypeError\u001b[0m: __init__(): incompatible constructor arguments. The following argument types are supported:\n    1. surface_roughness._roughness_cppimpl._cppTINBasedRoughness_impl(arg0: numpy.ndarray[numpy.float64[m, 3]], arg1: numpy.ndarray[numpy.int32[m, 3]])\n\nInvoked with: array([[ 3.72235341, 28.37285075,  0.33799704],\n       [ 3.9066535 , 28.32220238,  0.32852653],\n       [ 3.82516073, 28.61106716,  0.31447929],\n       ...,\n       [25.29536101, 26.16629356,  1.00639784],\n       [25.22542291,  9.05695497, -0.6768397 ],\n       [25.43393972,  9.42765121, -0.74885902]]), array([[   0,    1,    2],\n       [   3,    4,    1],\n       [   2,    1,    5],\n       ...,\n       [8515, 8566, 8445],\n       [8515, 8598, 8566],\n       [8533, 8439, 8534]], dtype=int64), array([12394, 12456, 12503, 12555, 12556, 12642, 12643, 12702, 12772,\n       12800, 12801, 12849, 12868, 12870, 12906, 12907, 12924, 12925,\n       13013, 13014, 13022, 13023, 13065, 13078, 13107, 13143, 13144,\n       13159, 13160, 13209, 13210, 13211, 13226, 13227, 13236, 13237,\n       13308, 13339, 13352, 13353, 13376, 13377, 13408, 13462, 13483,\n       13484, 13501, 13502, 13522, 13611, 13612, 13627, 13628, 13644,\n       13645, 13664, 13665, 13725, 13726, 13753, 13754, 13755, 13771,\n       13772, 13806, 13807, 13808, 13809, 13862, 13863, 13864, 13929,\n       13930, 13965, 13966, 13984, 14026, 14063, 14065, 14107, 14110,\n       14111, 14133, 14138, 14139, 14219, 14220, 14221, 14240, 14241,\n       14242, 14243, 14278, 14279, 14280, 14324, 14325, 14344, 14356,\n       14357, 14391, 14401, 14428, 14474, 14475, 14476, 14525, 14526,\n       14535, 14536, 14537, 14538, 14539, 14600, 14615, 14626, 14627,\n       14666, 14667, 14668, 14677, 14678, 14733, 14745, 14746, 14756,\n       14757, 14758, 14802, 14803, 14814, 14818, 14819, 14838, 14839,\n       14840, 14860, 14872, 14873, 14874, 14938, 14942, 14943, 14944,\n       14981, 14982, 14999, 15000, 15035, 15036, 15071, 15072, 15073,\n       15081, 15082, 15107, 15150, 15151, 15166, 15167, 15187, 15235,\n       15236, 15237, 15238, 15295, 15296, 15326, 15327, 15328, 15329,\n       15343, 15344, 15345, 15371, 15372, 15399, 15405, 15443, 15444,\n       15472, 15473, 15474, 15497, 15498, 15523, 15524, 15543, 15544,\n       15581, 15582, 15602, 15603, 15649, 15674, 15675, 15683, 15684,\n       15685, 15701, 15702, 15774, 15775, 15776, 15796, 15797, 15816,\n       15817, 15851, 15880, 15881, 15897, 15945, 15946, 15975, 15994,\n       15995, 15996, 16062, 16063, 16093, 16099, 16100, 16138, 16162,\n       16163, 16175, 16199, 16200, 16255, 16256, 16279, 16321, 16322,\n       16365, 16366, 16369, 16370, 16434, 16450, 16451, 16492, 16493,\n       16568, 16610], dtype=int64)"
     ]
    }
   ],
   "source": [
    "surface = Surface(path=file_path)\n",
    "generate_map(surface,'delta_t',['delta_t'],w)"
   ]
  }
 ],
 "metadata": {
  "kernelspec": {
   "display_name": "Python 3.7.8 ('roughness_3_8')",
   "language": "python",
   "name": "python3"
  },
  "language_info": {
   "codemirror_mode": {
    "name": "ipython",
    "version": 3
   },
   "file_extension": ".py",
   "mimetype": "text/x-python",
   "name": "python",
   "nbconvert_exporter": "python",
   "pygments_lexer": "ipython3",
   "version": "3.7.8"
  },
  "orig_nbformat": 4,
  "vscode": {
   "interpreter": {
    "hash": "9d3886971791204aa92496f0059ca30f7250d0d182147c525244083ce6dc5615"
   }
  }
 },
 "nbformat": 4,
 "nbformat_minor": 2
}
