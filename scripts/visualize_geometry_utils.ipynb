{
 "cells": [
  {
   "cell_type": "code",
   "execution_count": null,
   "metadata": {},
   "outputs": [],
   "source": [
    "import numpy as np\n",
    "import matplotlib.pyplot as plt"
   ]
  },
  {
   "cell_type": "code",
   "execution_count": null,
   "metadata": {},
   "outputs": [],
   "source": [
    "p = np.load('../points.npy')\n",
    "seg = np.load('../segments.npy')"
   ]
  },
  {
   "cell_type": "code",
   "execution_count": null,
   "metadata": {},
   "outputs": [],
   "source": [
    "from surface_roughness._geometry_utils import points_in_polygon\n",
    "p_idx = points_in_polygon(p,seg)\n",
    "plt.scatter(p[:,0],p[:,1])\n",
    "plt.scatter(p[p_idx,0],p[p_idx,1])\n"
   ]
  }
 ],
 "metadata": {
  "kernelspec": {
   "display_name": "Python 3.7.8 ('roughness_3_78')",
   "language": "python",
   "name": "python3"
  },
  "language_info": {
   "codemirror_mode": {
    "name": "ipython",
    "version": 3
   },
   "file_extension": ".py",
   "mimetype": "text/x-python",
   "name": "python",
   "nbconvert_exporter": "python",
   "pygments_lexer": "ipython3",
   "version": "3.7.8"
  },
  "orig_nbformat": 4,
  "vscode": {
   "interpreter": {
    "hash": "604089c884306f9558557fab55eb2f43bc2953807469574688134d75b38d7892"
   }
  }
 },
 "nbformat": 4,
 "nbformat_minor": 2
}
