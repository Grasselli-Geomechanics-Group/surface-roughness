{
 "cells": [
  {
   "cell_type": "code",
   "execution_count": null,
   "metadata": {},
   "outputs": [],
   "source": [
    "from surface_roughness import SampleWindow,Surface,roughness_map\n",
    "import matplotlib.pyplot as plt\n",
    "import numpy as np"
   ]
  },
  {
   "cell_type": "code",
   "execution_count": null,
   "metadata": {},
   "outputs": [],
   "source": [
    "file = 'X:/20220113_surface_sampling_samples/070925_BT_LGYZ1a_1_1.stl'\n",
    "\n",
    "surface = Surface(file)\n",
    "for r_selected in np.arange(1.5,4,0.5):\n",
    "    w = SampleWindow(is_circle=True,radius = r_selected)\n",
    "    map = roughness_map(surface,'delta_t',w,1,1)\n",
    "    map.sample(verbose=True)\n",
    "    map.evaluate()\n",
    "    map.analyze_directional_roughness('delta_t')\n",
    "    map.plot_quiver('delta_t','min_bidirectional')\n"
   ]
  },
  {
   "cell_type": "code",
   "execution_count": null,
   "metadata": {},
   "outputs": [],
   "source": [
    "map.plot_polar_roughness('delta_t',300)"
   ]
  }
 ],
 "metadata": {
  "interpreter": {
   "hash": "04786da2776159d64359a829343753c235b732c4838d19014ff6940db101194f"
  },
  "kernelspec": {
   "display_name": "Python 3.7.8 64-bit ('roughness_build': venv)",
   "language": "python",
   "name": "python3"
  },
  "language_info": {
   "codemirror_mode": {
    "name": "ipython",
    "version": 3
   },
   "file_extension": ".py",
   "mimetype": "text/x-python",
   "name": "python",
   "nbconvert_exporter": "python",
   "pygments_lexer": "ipython3",
   "version": "3.7.8"
  },
  "orig_nbformat": 4
 },
 "nbformat": 4,
 "nbformat_minor": 2
}
