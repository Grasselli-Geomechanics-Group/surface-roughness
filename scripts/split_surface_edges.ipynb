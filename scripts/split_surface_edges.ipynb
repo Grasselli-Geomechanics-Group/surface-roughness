{
 "cells": [
  {
   "cell_type": "code",
   "execution_count": 11,
   "metadata": {},
   "outputs": [],
   "source": [
    "import os, itertools\n",
    "\n",
    "import numpy as np\n",
    "import meshio\n",
    "import matplotlib.pyplot as plt\n",
    "from sklearn.cluster import MiniBatchKMeans, DBSCAN\n",
    "from sklearn.metrics.pairwise import pairwise_distances_argmin\n",
    "import networkx as nx\n",
    "\n",
    "def plot_3d(points):\n",
    "    fig = plt.figure()\n",
    "    ax = fig.gca(projection='3d')\n",
    "    ax.scatter(points[:,0],points[:,1],points[:,2])"
   ]
  },
  {
   "cell_type": "code",
   "execution_count": 18,
   "metadata": {},
   "outputs": [
    {
     "name": "stdout",
     "output_type": "stream",
     "text": [
      "Fitting\n"
     ]
    }
   ],
   "source": [
    "n_surfaces = 2\n",
    "surface = r'X:\\20220113_surface_sampling_samples\\buckinghorse\\EM_BD_PW01-2in-90-D01_3_1_1.stl'\n",
    "mesh = meshio.read(surface)\n",
    "points = mesh.points\n",
    "triangles = mesh.cells_dict['triangle']\n",
    "\n",
    "v1v0 = np.array([points[tri_i[1]] - points[tri_i[0]] for tri_i in triangles])\n",
    "v2v0 = np.array([points[tri_i[2]] - points[tri_i[0]] for tri_i in triangles])\n",
    "normals = np.cross(v1v0,v2v0,axisa=1,axisb=1)\n",
    "normals /= np.linalg.norm(normals,axis=1)[:,np.newaxis]\n",
    "centroids = np.mean(points[triangles],axis=1)\n",
    "centroids -= np.mean(centroids,axis=0)\n",
    "centroids /= (np.max(centroids,axis=0)-np.min(centroids,axis=0))\n",
    "X = np.hstack([centroids,normals])\n",
    "\n",
    "kmeans = MiniBatchKMeans(\n",
    "    n_clusters=n_surfaces,\n",
    "    batch_size=50\n",
    ")\n",
    "print(\"Fitting\")\n",
    "kmeans.fit(X)\n",
    "cluster_centers = kmeans.cluster_centers_\n",
    "mbk_labels = pairwise_distances_argmin(X,cluster_centers)"
   ]
  },
  {
   "cell_type": "code",
   "execution_count": 19,
   "metadata": {},
   "outputs": [
    {
     "name": "stdout",
     "output_type": "stream",
     "text": [
      "Cleaning up clusters\n",
      "96 triangles of 577351 to be relocated\n",
      "2605 triangles of 502069 to be relocated\n"
     ]
    }
   ],
   "source": [
    "# Initial triangles found\n",
    "# Need to clean up stray triangles and put surfaces together\n",
    "print(\"Cleaning up clusters\")\n",
    "cluster_bounds = []\n",
    "for cluster in range(n_surfaces):\n",
    "    cluster_triangles = triangles[cluster == mbk_labels]\n",
    "    #https://stackoverflow.com/questions/61584283/find-connected-components-in-list-of-triangle-vertices\n",
    "    edges = []\n",
    "    for face in cluster_triangles:\n",
    "        edges.extend(list(itertools.combinations(face,2)))\n",
    "    \n",
    "    graph = nx.from_edgelist(edges)\n",
    "\n",
    "    components = list(nx.algorithms.components.connected_components(graph))\n",
    "    component_to_faces = dict()\n",
    "    component_triangles = dict()\n",
    "    for component in components:\n",
    "        # component_to_faces[tuple(component)] = [face for face in cluster_triangles if set(face) <= component]\n",
    "        component_triangles[tuple(component)] = [i for i,face in enumerate(cluster_triangles) if set(face) <= component]\n",
    "    # components = [[face for face in cluster_triangles if set(face) <= component ] for component in components]\n",
    "    triangle_groups = sorted(component_triangles.values(),key=lambda x: len(x),reverse=True)\n",
    "    print(f\"{len(cluster_triangles)-len(triangle_groups[0])} triangles of {len(cluster_triangles)} to be relocated\")\n",
    "    cluster_idx = np.where(cluster == mbk_labels)[0]\n",
    "    for triangle_group in triangle_groups[1:]:\n",
    "        mbk_labels[cluster_idx[triangle_group]] = -1\n",
    "\n",
    "    cluster_bounds.append(np.vstack([\n",
    "        np.min(centroids[cluster == mbk_labels],axis=0),\n",
    "        np.max(centroids[cluster == mbk_labels],axis=0)]))\n",
    "\n",
    "relocations = np.where(mbk_labels == -1)[0]\n",
    "for t_i, t in enumerate(relocations):\n",
    "    for k in range(n_surfaces):\n",
    "        if np.any(np.greater(centroids[t],cluster_bounds[k][1])):\n",
    "            continue\n",
    "        if np.any(np.less(centroids[t],cluster_bounds[k][0])):\n",
    "            continue\n",
    "        mbk_labels[t] = k\n",
    "        break"
   ]
  },
  {
   "cell_type": "code",
   "execution_count": 20,
   "metadata": {},
   "outputs": [
    {
     "name": "stdout",
     "output_type": "stream",
     "text": [
      "Splitting surfaces\n",
      "0\n",
      "1\n"
     ]
    }
   ],
   "source": [
    "print(\"Splitting surfaces\")\n",
    "for k in range(n_surfaces):\n",
    "    print(k)\n",
    "    cluster_triangles = triangles[k == mbk_labels]\n",
    "    cluster_points = points[cluster_triangles]\n",
    "    point_reindex,cluster_triangles = np.unique(cluster_triangles,return_inverse=True)\n",
    "    cluster_points = points[point_reindex]\n",
    "    cluster_triangles = np.reshape(cluster_triangles,(-1,3))\n",
    "    mesh = meshio.Mesh(cluster_points,{'triangle':cluster_triangles})\n",
    "    folder = os.path.dirname(surface)\n",
    "    file = os.path.basename(surface)\n",
    "    file_split = os.path.splitext(file)\n",
    "    mesh.write(os.path.join(folder,f\"{file_split[0]}_{k}.stl\"),file_format=\"stl-binary\")"
   ]
  }
 ],
 "metadata": {
  "kernelspec": {
   "display_name": "Python 3.7.8 ('roughness_3_8')",
   "language": "python",
   "name": "python3"
  },
  "language_info": {
   "codemirror_mode": {
    "name": "ipython",
    "version": 3
   },
   "file_extension": ".py",
   "mimetype": "text/x-python",
   "name": "python",
   "nbconvert_exporter": "python",
   "pygments_lexer": "ipython3",
   "version": "3.7.8"
  },
  "orig_nbformat": 4,
  "vscode": {
   "interpreter": {
    "hash": "9d3886971791204aa92496f0059ca30f7250d0d182147c525244083ce6dc5615"
   }
  }
 },
 "nbformat": 4,
 "nbformat_minor": 2
}
