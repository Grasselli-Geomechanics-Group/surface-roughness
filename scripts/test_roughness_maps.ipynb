{
 "cells": [
  {
   "cell_type": "code",
   "execution_count": null,
   "metadata": {},
   "outputs": [],
   "source": [
    "from surface_roughness import Surface, SampleWindow, roughness, roughness_map\n",
    "import matplotlib.pyplot as plt\n",
    "\n",
    "w = SampleWindow(is_circle=True,radius=2.5)\n",
    "file_path = 'example_surface.stl'\n",
    "def generate_map(surface,method,submethods,w:SampleWindow):\n",
    "    map = roughness_map(surface,method,w,1,1)\n",
    "    map.sample(verbose=True)\n",
    "    map.evaluate()\n",
    "    for submethod in submethods:\n",
    "        map.analyze_directional_roughness(submethod)\n",
    "\n",
    "        plt.figure(figsize=(6.5,4))\n",
    "        map.plot_quiver(submethod,'min_bidirectional',ax=plt.subplot(221))\n",
    "        map.plot_magnitude(submethod,'max_bidirectional',ax=plt.subplot(222))\n",
    "        map.plot_distribution(submethod,'max_bidirectional',50,ax=plt.subplot(212))\n",
    "        plt.tight_layout()\n",
    "        submethod_savestr = submethod.replace('*','star')\n"
   ]
  },
  {
   "cell_type": "code",
   "execution_count": null,
   "metadata": {},
   "outputs": [],
   "source": [
    "surface = Surface(path=file_path)\n",
    "generate_map(surface,'delta_t',['delta_t'],w)"
   ]
  }
 ],
 "metadata": {
  "kernelspec": {
   "display_name": "Python 3.7.8 ('roughness_3_8')",
   "language": "python",
   "name": "python3"
  },
  "language_info": {
   "codemirror_mode": {
    "name": "ipython",
    "version": 3
   },
   "file_extension": ".py",
   "mimetype": "text/x-python",
   "name": "python",
   "nbconvert_exporter": "python",
   "pygments_lexer": "ipython3",
   "version": "3.7.8"
  },
  "orig_nbformat": 4,
  "vscode": {
   "interpreter": {
    "hash": "9d3886971791204aa92496f0059ca30f7250d0d182147c525244083ce6dc5615"
   }
  }
 },
 "nbformat": 4,
 "nbformat_minor": 2
}
