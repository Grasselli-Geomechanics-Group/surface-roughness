{
 "cells": [
  {
   "cell_type": "code",
   "execution_count": 1,
   "metadata": {},
   "outputs": [
    {
     "name": "stderr",
     "output_type": "stream",
     "text": [
      "x:\\python_env\\roughness_3_8\\lib\\site-packages\\tqdm\\auto.py:22: TqdmWarning: IProgress not found. Please update jupyter and ipywidgets. See https://ipywidgets.readthedocs.io/en/stable/user_install.html\n",
      "  from .autonotebook import tqdm as notebook_tqdm\n"
     ]
    }
   ],
   "source": [
    "from surface_roughness import Surface\n",
    "import numpy as np\n",
    "\n",
    "surface = Surface(path='example_surface.stl')"
   ]
  },
  {
   "cell_type": "code",
   "execution_count": 2,
   "metadata": {},
   "outputs": [
    {
     "name": "stdout",
     "output_type": "stream",
     "text": [
      "[0.04934573 0.04729415 0.022432   ... 0.06028062 0.06245704 0.0446357 ]\n",
      "[[ 0.06985742  0.06810488  0.99522945]\n",
      " [ 0.16007916  0.13612797  0.97767266]\n",
      " [ 0.19769169  0.10317618  0.9748193 ]\n",
      " ...\n",
      " [ 0.2379187   0.08708326  0.96737335]\n",
      " [ 0.21033365  0.10238662  0.97225343]\n",
      " [ 0.14691056 -0.10905404  0.98311978]]\n"
     ]
    }
   ],
   "source": [
    "v0 = surface.points[surface.triangles[:,0]]\n",
    "v1 = surface.points[surface.triangles[:,1]]\n",
    "v2 = surface.points[surface.triangles[:,2]]\n",
    "\n",
    "v1v0 = v1 - v0\n",
    "v2v0 = v2 - v0\n",
    "\n",
    "normals = np.cross(v1v0,v2v0,axisa=1,axisb=1)\n",
    "\n",
    "areas = np.linalg.norm(normals,axis=1)\n",
    "print(areas)\n",
    "normals /= areas[:,np.newaxis]\n",
    "print(normals)"
   ]
  },
  {
   "cell_type": "code",
   "execution_count": 3,
   "metadata": {},
   "outputs": [
    {
     "name": "stdout",
     "output_type": "stream",
     "text": [
      "[-0.07007734 -0.16229482 -0.20008477 ... -0.24115668 -0.21305301\n",
      " -0.1483354 ]\n"
     ]
    }
   ],
   "source": [
    "shear_dir = np.array([1,0,0])\n",
    "\n",
    "proj = np.zeros_like(normals)\n",
    "proj[:,0] = normals[:,0] - (shear_dir[1]**2*normals[:,0] - shear_dir[0]*shear_dir[1]*normals[:,1])\n",
    "proj[:,1] = normals[:,1] - (shear_dir[0]*shear_dir[1]*normals[:,0] + shear_dir[0]**2 * normals[:,1])\n",
    "proj[:,2] = normals[:,2]\n",
    "\n",
    "proj /= np.linalg.norm(proj,axis=1)[:,np.newaxis]\n",
    "app_dip = np.arccos(proj[:,0]*shear_dir[0]+proj[:,1]*shear_dir[1])-np.pi/2\n",
    "print(app_dip)"
   ]
  },
  {
   "cell_type": "code",
   "execution_count": 4,
   "metadata": {},
   "outputs": [
    {
     "name": "stdout",
     "output_type": "stream",
     "text": [
      "7984\n",
      "7.282562247623986\n",
      "9.195512678145327\n"
     ]
    }
   ],
   "source": [
    "facing_areas = areas[app_dip>0]\n",
    "facing_appdips = np.degrees(app_dip[app_dip>0])\n",
    "\n",
    "delta_t = np.sum(facing_appdips * facing_areas) / facing_areas.sum()\n",
    "delta_star_t = np.sqrt(np.sum(facing_areas * facing_appdips**2)/facing_areas.sum())\n",
    "print(len(facing_areas))\n",
    "print(delta_t)\n",
    "print(delta_star_t)"
   ]
  }
 ],
 "metadata": {
  "kernelspec": {
   "display_name": "Python 3.7.8 ('roughness_3_8')",
   "language": "python",
   "name": "python3"
  },
  "language_info": {
   "codemirror_mode": {
    "name": "ipython",
    "version": 3
   },
   "file_extension": ".py",
   "mimetype": "text/x-python",
   "name": "python",
   "nbconvert_exporter": "python",
   "pygments_lexer": "ipython3",
   "version": "3.7.8"
  },
  "orig_nbformat": 4,
  "vscode": {
   "interpreter": {
    "hash": "9d3886971791204aa92496f0059ca30f7250d0d182147c525244083ce6dc5615"
   }
  }
 },
 "nbformat": 4,
 "nbformat_minor": 2
}
