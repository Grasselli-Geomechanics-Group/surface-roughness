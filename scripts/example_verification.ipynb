{
 "cells": [
  {
   "cell_type": "code",
   "execution_count": null,
   "metadata": {},
   "outputs": [],
   "source": [
    "from surface_roughness import Surface\n",
    "import numpy as np\n",
    "\n",
    "surface = Surface(path='example_surface.stl')"
   ]
  },
  {
   "cell_type": "code",
   "execution_count": null,
   "metadata": {},
   "outputs": [],
   "source": [
    "v0 = surface.points[surface.triangles[:,0]]\n",
    "v1 = surface.points[surface.triangles[:,1]]\n",
    "v2 = surface.points[surface.triangles[:,2]]\n",
    "\n",
    "v1v0 = v1 - v0\n",
    "v2v0 = v2 - v0\n",
    "\n",
    "normals = np.cross(v1v0,v2v0,axisa=1,axisb=1)\n",
    "\n",
    "areas = np.linalg.norm(normals,axis=1)\n",
    "print(areas)\n",
    "normals /= areas[:,np.newaxis]\n",
    "print(normals)"
   ]
  },
  {
   "cell_type": "code",
   "execution_count": null,
   "metadata": {},
   "outputs": [],
   "source": [
    "shear_dir = np.array([1,0,0])\n",
    "\n",
    "proj = np.zeros_like(normals)\n",
    "proj[:,0] = normals[:,0] - (shear_dir[1]**2*normals[:,0] - shear_dir[0]*shear_dir[1]*normals[:,1])\n",
    "proj[:,1] = normals[:,1] - (shear_dir[0]*shear_dir[1]*normals[:,0] + shear_dir[0]**2 * normals[:,1])\n",
    "proj[:,2] = normals[:,2]\n",
    "\n",
    "proj /= np.linalg.norm(proj,axis=1)[:,np.newaxis]\n",
    "app_dip = np.arccos(proj[:,0]*shear_dir[0]+proj[:,1]*shear_dir[1])-np.pi/2\n",
    "print(app_dip)"
   ]
  },
  {
   "cell_type": "code",
   "execution_count": null,
   "metadata": {},
   "outputs": [],
   "source": [
    "facing_areas = areas[app_dip>0]\n",
    "facing_appdips = np.degrees(app_dip[app_dip>0])\n",
    "\n",
    "delta_t = np.sum(facing_appdips * facing_areas) / facing_areas.sum()\n",
    "delta_star_t = np.sqrt(np.sum(facing_areas * facing_appdips**2)/facing_areas.sum())\n",
    "print(len(facing_areas))\n",
    "print(delta_t)\n",
    "print(delta_star_t)"
   ]
  }
 ],
 "metadata": {
  "kernelspec": {
   "display_name": "Python 3.7.8 ('roughness_3_8')",
   "language": "python",
   "name": "python3"
  },
  "language_info": {
   "codemirror_mode": {
    "name": "ipython",
    "version": 3
   },
   "file_extension": ".py",
   "mimetype": "text/x-python",
   "name": "python",
   "nbconvert_exporter": "python",
   "pygments_lexer": "ipython3",
   "version": "3.7.8"
  },
  "orig_nbformat": 4,
  "vscode": {
   "interpreter": {
    "hash": "9d3886971791204aa92496f0059ca30f7250d0d182147c525244083ce6dc5615"
   }
  }
 },
 "nbformat": 4,
 "nbformat_minor": 2
}
