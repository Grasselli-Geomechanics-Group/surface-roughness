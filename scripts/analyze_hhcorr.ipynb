{
 "cells": [
  {
   "cell_type": "code",
   "execution_count": 9,
   "metadata": {},
   "outputs": [],
   "source": [
    "import glob, os\n",
    "\n",
    "import numpy as np\n",
    "import matplotlib.pyplot as plt\n",
    "import pandas as pd"
   ]
  },
  {
   "cell_type": "code",
   "execution_count": 14,
   "metadata": {},
   "outputs": [],
   "source": [
    "def trim_drop(profile):\n",
    "    change = np.diff(profile[:,1])\n",
    "    idx = np.argmin(change)\n",
    "    return profile[:idx+1]"
   ]
  },
  {
   "cell_type": "code",
   "execution_count": 13,
   "metadata": {},
   "outputs": [],
   "source": [
    "folder = r'X:\\20220113_surface_sampling_samples'\n",
    "perp_hhcorr = glob.glob(folder+r'\\20220930_Beza_direct_tension_2_top_1_1.stlperp_hhcorr_*.csv')\n",
    "perp_roughness = pd.DataFrame()\n",
    "for i,hhcorr in enumerate(perp_hhcorr):\n",
    "    profile = trim_drop(np.getfromtxt(hhcorr,delimiter=','))\n",
    "    data = pd.DataFrame({'delta_x':profile[:,0],'delta_h':profile[:,1]})\n",
    "    data['profile'] = i\n",
    "    perp_roughness = pd.concat([perp_roughness,data])\n",
    "par_hhcorr =  glob.glob(folder+r'\\20220930_Beza_direct_tension_2_top_1_1.stlpar_hhcorr_*.csv')\n",
    "par_roughness = pd.DataFrame()\n",
    "for i,hhcorr in enumerate(par_hhcorr):\n",
    "    data = pd.read_csv(hhcorr,header=0,names=['delta_x','delta_h'])\n",
    "    data['profile'] = i\n",
    "    par_roughness = pd.concat([par_roughness,data])"
   ]
  },
  {
   "cell_type": "code",
   "execution_count": null,
   "metadata": {},
   "outputs": [],
   "source": []
  }
 ],
 "metadata": {
  "kernelspec": {
   "display_name": "Python 3.7.8 ('roughness_3_8')",
   "language": "python",
   "name": "python3"
  },
  "language_info": {
   "codemirror_mode": {
    "name": "ipython",
    "version": 3
   },
   "file_extension": ".py",
   "mimetype": "text/x-python",
   "name": "python",
   "nbconvert_exporter": "python",
   "pygments_lexer": "ipython3",
   "version": "3.7.8"
  },
  "orig_nbformat": 4,
  "vscode": {
   "interpreter": {
    "hash": "9d3886971791204aa92496f0059ca30f7250d0d182147c525244083ce6dc5615"
   }
  }
 },
 "nbformat": 4,
 "nbformat_minor": 2
}
