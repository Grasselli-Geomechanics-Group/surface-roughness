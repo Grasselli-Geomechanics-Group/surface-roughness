{
 "cells": [
  {
   "cell_type": "code",
   "execution_count": null,
   "metadata": {},
   "outputs": [],
   "source": [
    "import glob, os\n",
    "\n",
    "import numpy as np\n",
    "import matplotlib.pyplot as plt\n",
    "import pandas as pd\n"
   ]
  },
  {
   "cell_type": "code",
   "execution_count": null,
   "metadata": {},
   "outputs": [],
   "source": [
    "def trim_drop(profile):\n",
    "    change = np.diff(profile[:,1])\n",
    "    idx = np.argmin(change)\n",
    "    return profile[:idx+1]\n",
    "\n",
    "def getprofile(df,id):\n",
    "    return df[df['profile'] == id]\n",
    "\n",
    "def getlocalpowerlawexponent(points):\n",
    "    x = np.log(points[:,0])\n",
    "    y = np.log(points[:,1])\n",
    "\n",
    "    return np.linalg.lstsq(np.vstack([x,np.ones_like(x)]).T,y)[0][0]\n"
   ]
  },
  {
   "cell_type": "code",
   "execution_count": null,
   "metadata": {},
   "outputs": [],
   "source": [
    "folder = r'X:\\20220113_surface_sampling_samples\\20220823_beza_direct_tension_top'\n",
    "perp_hhcorr = glob.glob(folder+r'\\perp\\*.csv')\n",
    "perp_roughness = pd.DataFrame()\n",
    "for i,hhcorr in enumerate(perp_hhcorr):\n",
    "    profile = trim_drop(np.genfromtxt(hhcorr,delimiter=','))\n",
    "    data = pd.DataFrame({'delta_x':profile[:,0],'delta_h':profile[:,1]})\n",
    "    data['profile'] = i\n",
    "    perp_roughness = pd.concat([perp_roughness,data])\n",
    "par_hhcorr =  glob.glob(folder+r'\\par\\*.csv')\n",
    "par_roughness = pd.DataFrame()\n",
    "for i,hhcorr in enumerate(par_hhcorr):\n",
    "    profile = trim_drop(np.genfromtxt(hhcorr,delimiter=','))\n",
    "    data = pd.DataFrame({'delta_x':profile[:,0],'delta_h':profile[:,1]})\n",
    "    data['profile'] = i\n",
    "    par_roughness = pd.concat([par_roughness,data])\n",
    "\n",
    "n_samples = 10\n",
    "exp_fig,exp_ax = plt.subplots()\n",
    "hh_fig,hh_ax = plt.subplots()\n",
    "for i in range(perp_roughness['profile'].max()):\n",
    "    hhcorr = getprofile(perp_roughness,i)\n",
    "    hhcorr = np.vstack([hhcorr['delta_x'],hhcorr['delta_h']]).T\n",
    "    exp_perp = np.array([getlocalpowerlawexponent(hhcorr[i:i+n_samples])for i in range(hhcorr.shape[0]-n_samples)])\n",
    "\n",
    "    exp_ax.semilogx(hhcorr[:-n_samples,0],exp_perp,'-x')\n",
    "\n",
    "    \n",
    "    hh_ax.loglog(hhcorr[:-n_samples,0],hhcorr[:-n_samples,1],'-x')\n",
    "\n",
    "for i in range(par_roughness['profile'].max()):\n",
    "    hhcorr = getprofile(par_roughness,i)\n",
    "    hhcorr = np.vstack([hhcorr['delta_x'],hhcorr['delta_h']]).T\n",
    "    exp_perp = np.array([getlocalpowerlawexponent(hhcorr[i:i+n_samples])for i in range(hhcorr.shape[0]-n_samples)])\n",
    "\n",
    "    exp_ax.semilogx(hhcorr[:-n_samples,0],exp_perp,'--^')\n",
    "\n",
    "    \n",
    "    hh_ax.loglog(hhcorr[:-n_samples,0],hhcorr[:-n_samples,1],'--^')\n"
   ]
  },
  {
   "cell_type": "code",
   "execution_count": null,
   "metadata": {},
   "outputs": [],
   "source": [
    "data"
   ]
  }
 ],
 "metadata": {
  "kernelspec": {
   "display_name": "Python 3.7.8 ('roughness_3_78')",
   "language": "python",
   "name": "python3"
  },
  "language_info": {
   "codemirror_mode": {
    "name": "ipython",
    "version": 3
   },
   "file_extension": ".py",
   "mimetype": "text/x-python",
   "name": "python",
   "nbconvert_exporter": "python",
   "pygments_lexer": "ipython3",
   "version": "3.7.8"
  },
  "orig_nbformat": 4,
  "vscode": {
   "interpreter": {
    "hash": "604089c884306f9558557fab55eb2f43bc2953807469574688134d75b38d7892"
   }
  }
 },
 "nbformat": 4,
 "nbformat_minor": 2
}
