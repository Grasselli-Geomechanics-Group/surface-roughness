{
 "cells": [
  {
   "cell_type": "code",
   "execution_count": null,
   "metadata": {},
   "outputs": [],
   "source": [
    "from surface_roughness import Surface\n",
    "import numpy as np\n",
    "from scipy.stats import shapiro, kstest, norm, gaussian_kde, probplot\n",
    "import matplotlib.pyplot as plt\n",
    "\n",
    "surface = Surface(path='example_surface.stl')"
   ]
  },
  {
   "cell_type": "code",
   "execution_count": null,
   "metadata": {},
   "outputs": [],
   "source": [
    "v0 = surface.points[surface.triangles[:,0]]\n",
    "v1 = surface.points[surface.triangles[:,1]]\n",
    "v2 = surface.points[surface.triangles[:,2]]\n",
    "\n",
    "v1v0 = v1 - v0\n",
    "v2v0 = v2 - v0\n",
    "\n",
    "normals = np.cross(v1v0,v2v0,axisa=1,axisb=1)\n",
    "\n",
    "areas = np.linalg.norm(normals,axis=1)\n",
    "print(areas)\n",
    "normals /= areas[:,np.newaxis]\n",
    "print(normals)"
   ]
  },
  {
   "cell_type": "code",
   "execution_count": null,
   "metadata": {},
   "outputs": [],
   "source": [
    "shear_dir = np.array([1,0,0])\n",
    "\n",
    "proj = np.zeros_like(normals)\n",
    "proj[:,0] = normals[:,0] - (shear_dir[1]**2*normals[:,0] - shear_dir[0]*shear_dir[1]*normals[:,1])\n",
    "proj[:,1] = normals[:,1] - (shear_dir[0]*shear_dir[1]*normals[:,0] + shear_dir[0]**2 * normals[:,1])\n",
    "proj[:,2] = normals[:,2]\n",
    "\n",
    "proj /= np.linalg.norm(proj,axis=1)[:,np.newaxis]\n",
    "app_dip = np.arccos(proj[:,0]*shear_dir[0]+proj[:,1]*shear_dir[1])-np.pi/2\n",
    "print(app_dip)"
   ]
  },
  {
   "cell_type": "code",
   "execution_count": null,
   "metadata": {},
   "outputs": [],
   "source": [
    "stat, pval = shapiro(app_dip)\n",
    "print(len(app_dip))\n",
    "print(f\"Shapiro-wilk stat: {stat} p-value: {pval}\")\n",
    "\n",
    "ks_stat, ks_pval = kstest(app_dip,'norm')\n",
    "print(f\"Kolmogorov-Smirnov Stat: {ks_stat} P-value: {ks_pval}\")\n",
    "\n",
    "mean = np.mean(app_dip)\n",
    "stdev = np.std(app_dip)\n",
    "\n",
    "print(f\"Mean: {mean} Std: {stdev}\")\n",
    "print(f\"Absmean: {np.mean(np.abs(app_dip))} Std: {np.std(np.abs(app_dip))}\")\n",
    "\n",
    "x = np.linspace(app_dip.min(),app_dip.max(),500)\n",
    "kern = gaussian_kde(app_dip)\n",
    "\n",
    "plt.hist(app_dip,100,density=True)\n",
    "plt.twinx()\n",
    "plt.plot(x,norm.pdf(x,mean,stdev))\n",
    "plt.plot(x,kern.evaluate(x))\n",
    "ax = plt.gca()\n",
    "ax.set_ylim(ymin=0)"
   ]
  },
  {
   "cell_type": "code",
   "execution_count": null,
   "metadata": {},
   "outputs": [],
   "source": [
    "probplot(app_dip,dist=\"norm\",plot=plt)"
   ]
  }
 ],
 "metadata": {
  "kernelspec": {
   "display_name": "Python 3.7.8 ('roughness_3_8')",
   "language": "python",
   "name": "python3"
  },
  "language_info": {
   "codemirror_mode": {
    "name": "ipython",
    "version": 3
   },
   "file_extension": ".py",
   "mimetype": "text/x-python",
   "name": "python",
   "nbconvert_exporter": "python",
   "pygments_lexer": "ipython3",
   "version": "3.7.8"
  },
  "orig_nbformat": 4,
  "vscode": {
   "interpreter": {
    "hash": "9d3886971791204aa92496f0059ca30f7250d0d182147c525244083ce6dc5615"
   }
  }
 },
 "nbformat": 4,
 "nbformat_minor": 2
}
