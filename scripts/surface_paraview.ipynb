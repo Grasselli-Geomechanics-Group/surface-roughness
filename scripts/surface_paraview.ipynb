{
 "cells": [
  {
   "cell_type": "code",
   "execution_count": 4,
   "metadata": {},
   "outputs": [],
   "source": [
    "import os, glob\n",
    "\n",
    "import pyvista as pv\n",
    "pv.set_jupyter_backend('ipyvtklink')"
   ]
  },
  {
   "cell_type": "code",
   "execution_count": 5,
   "metadata": {},
   "outputs": [],
   "source": [
    "folder = r'X:\\20220113_surface_sampling_samples'\n",
    "file_prefix = 'BD_91_1a.stl_deltastar_t_r2.5'\n",
    "\n",
    "direction_file = os.path.join(folder,file_prefix + \"_directions.vtu\")\n",
    "pl = pv.Plotter()\n",
    "dir_data = pv.get_reader(direction_file).read()\n",
    "dir_glyphs = dir_data.glyph(scale='min_bidirectional')\n",
    "pl.add_mesh(dir_glyphs)\n",
    "pl.show()"
   ]
  }
 ],
 "metadata": {
  "kernelspec": {
   "display_name": "Python 3.7.8 ('roughness_3_8')",
   "language": "python",
   "name": "python3"
  },
  "language_info": {
   "codemirror_mode": {
    "name": "ipython",
    "version": 3
   },
   "file_extension": ".py",
   "mimetype": "text/x-python",
   "name": "python",
   "nbconvert_exporter": "python",
   "pygments_lexer": "ipython3",
   "version": "3.7.8"
  },
  "orig_nbformat": 4,
  "vscode": {
   "interpreter": {
    "hash": "9d3886971791204aa92496f0059ca30f7250d0d182147c525244083ce6dc5615"
   }
  }
 },
 "nbformat": 4,
 "nbformat_minor": 2
}
