{
 "cells": [
  {
   "cell_type": "code",
   "execution_count": null,
   "metadata": {},
   "outputs": [],
   "source": [
    "import numpy as np\n",
    "import matplotlib.pyplot as plt\n",
    "import mplstereonet as mpl\n",
    "from surface_roughness.roughness import Surface"
   ]
  },
  {
   "cell_type": "code",
   "execution_count": null,
   "metadata": {},
   "outputs": [],
   "source": [
    "file = r'X:\\20220113_surface_sampling_samples\\20220823_beza_direct_tension_bot_1_1.stl'\n",
    "\n",
    "surface = Surface(file)\n",
    "bounds = surface.bounds()\n",
    "min_bound = np.min(bounds[1,:2]-bounds[0,:2])\n",
    "centroid = np.mean(bounds,axis=0)\n",
    "points = surface.points\n",
    "tri = surface.triangles\n",
    "normals = surface.normals\n",
    "for i in range(6,30,4):\n",
    "\n",
    "    p_in_circle = (points[:,0]-centroid[0])**2 + (points[:,1]-centroid[1])**2 < (min_bound/i)**2\n",
    "    selected_surface_idx = np.all(p_in_circle[tri],axis=1)\n",
    "    x,y,z = normals[selected_surface_idx].T\n",
    "    fig = plt.figure()\n",
    "    ax = fig.add_subplot(111,projection='stereonet')\n",
    "    plunge,bearing = mpl.vector2plunge_bearing(x,y,z)\n",
    "    ax.density_contourf(plunge,bearing,measurement='lines')\n",
    "    plt.show()"
   ]
  },
  {
   "cell_type": "code",
   "execution_count": null,
   "metadata": {},
   "outputs": [],
   "source": [
    "file = 'example_surface.stl'\n",
    "mesh = Surface(file)\n",
    "fig = plt.figure()\n",
    "ax = fig.add_subplot(111,projection='stereonet')\n",
    "x,y,z = mesh.normals.T\n",
    "\n",
    "plunge,bearing = mpl.vector2plunge_bearing(x,y,z)\n",
    "ax.density_contourf(plunge,bearing,measurement='lines')\n",
    "# ax.line(plunge,bearing,marker='o',color='black')\n",
    "\n"
   ]
  }
 ],
 "metadata": {
  "kernelspec": {
   "display_name": "Python 3.7.8 64-bit",
   "language": "python",
   "name": "python3"
  },
  "language_info": {
   "codemirror_mode": {
    "name": "ipython",
    "version": 3
   },
   "file_extension": ".py",
   "mimetype": "text/x-python",
   "name": "python",
   "nbconvert_exporter": "python",
   "pygments_lexer": "ipython3",
   "version": "3.7.8"
  },
  "orig_nbformat": 4,
  "vscode": {
   "interpreter": {
    "hash": "19f42019deb21a7440d7e6d5b7a46a4f392bb497fde383d1596dd2c5bfee7f7a"
   }
  }
 },
 "nbformat": 4,
 "nbformat_minor": 2
}
